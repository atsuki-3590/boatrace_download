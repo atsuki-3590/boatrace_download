{
 "cells": [
  {
   "cell_type": "code",
   "execution_count": 1,
   "id": "05dfac00",
   "metadata": {},
   "outputs": [
    {
     "name": "stdout",
     "output_type": "stream",
     "text": [
      "Hello, World!\n"
     ]
    }
   ],
   "source": [
    "print(\"Hello, World!\")"
   ]
  },
  {
   "cell_type": "code",
   "execution_count": 5,
   "id": "bc4aa577",
   "metadata": {},
   "outputs": [],
   "source": [
    "import pandas as pd\n",
    "import io\n",
    "from bs4 import BeautifulSoup"
   ]
  },
  {
   "cell_type": "code",
   "execution_count": 2,
   "id": "4d713edb",
   "metadata": {},
   "outputs": [
    {
     "name": "stdout",
     "output_type": "stream",
     "text": [
      "Your browser has been opened to visit:\n",
      "\n",
      "    https://accounts.google.com/o/oauth2/auth?client_id=891281462419-cf870e7pi408g3psbot4898a9t4d6pn5.apps.googleusercontent.com&redirect_uri=http%3A%2F%2Flocalhost%3A8080%2F&scope=https%3A%2F%2Fwww.googleapis.com%2Fauth%2Fdrive&access_type=online&response_type=code\n",
      "\n",
      "Authentication successful.\n",
      "Google Driveへの認証が完了しました。\n"
     ]
    }
   ],
   "source": [
    "from pydrive2.auth import GoogleAuth\n",
    "from pydrive2.drive import GoogleDrive\n",
    "import pandas as pd\n",
    "import io # ファイルをメモリ上で扱うためにインポート\n",
    "\n",
    "# 認証処理\n",
    "gauth = GoogleAuth()\n",
    "# client_secrets.jsonを読み込み、なければWeb認証のフローを開始\n",
    "gauth.LocalWebserverAuth()\n",
    "drive = GoogleDrive(gauth)\n",
    "\n",
    "print(\"Google Driveへの認証が完了しました。\")"
   ]
  },
  {
   "cell_type": "code",
   "execution_count": 8,
   "id": "5eafef9b",
   "metadata": {},
   "outputs": [
    {
     "name": "stdout",
     "output_type": "stream",
     "text": [
      "ファイルID: 1HRJtgM1Wr923LSgYiCyh9AH0lz9KaHK_ を読み込みます。\n",
      "UTF-8でデコードしました。\n",
      "\n",
      "HTMLの解析に成功しました。\n",
      "ページのタイトル: オッズ（3連複）｜BOAT RACE オフィシャルウェブサイト\n"
     ]
    }
   ],
   "source": [
    "# 読み込みたいファイル名\n",
    "file_title_to_read = '20240731_23_12R.html'\n",
    "# ファイルが存在するフォルダのID（DriveのURLから取得）\n",
    "target_folder_id = '1e0l7BAYZOdh1zFYauZlep1ZbPiAPeR6o'\n",
    "\n",
    "# 指定したフォルダ内でファイルを検索\n",
    "file_list = drive.ListFile({'q': f\"'{target_folder_id}' in parents and title='{file_title_to_read}' and trashed=false\"}).GetList()\n",
    "\n",
    "if not file_list:\n",
    "    print(f\"エラー: ファイル '{file_title_to_read}' が見つかりません。\")\n",
    "else:\n",
    "    # 最初のファイルを対象とする\n",
    "    target_file = file_list[0]\n",
    "    print(f\"ファイルID: {target_file['id']} を読み込みます。\")\n",
    "\n",
    "    # --- ▼▼▼ ここから修正 ▼▼▼ ---\n",
    "\n",
    "    # ファイルコンテンツをバイトデータとしてメモリ上のバッファに読み込む\n",
    "    buffer = target_file.GetContentIOBuffer()\n",
    "    # .getvalue() の代わりに .read() を使用してバイトデータを取得\n",
    "    html_bytes = buffer.read()\n",
    "    \n",
    "    # 一般的なWebページのエンコーディングを試す（もし文字化けしたら 'shift_jis' などに変更）\n",
    "    try:\n",
    "        html_content = html_bytes.decode('utf-8')\n",
    "        print(\"UTF-8でデコードしました。\")\n",
    "    except UnicodeDecodeError:\n",
    "        html_content = html_bytes.decode('shift_jis')\n",
    "        print(\"Shift_JISでデコードしました。\")\n",
    "\n",
    "    # BeautifulSoupでHTMLを解析\n",
    "    soup = BeautifulSoup(html_content, 'html.parser')\n",
    "\n",
    "    print(\"\\nHTMLの解析に成功しました。\")\n",
    "\n",
    "    # 例：HTMLのタイトルを表示してみる\n",
    "    if soup.title:\n",
    "        print(f\"ページのタイトル: {soup.title.string}\")\n",
    "    else:\n",
    "        print(\"このページにタイトルはありません。\")\n",
    "    "
   ]
  },
  {
   "cell_type": "code",
   "execution_count": null,
   "id": "7cb95c44",
   "metadata": {},
   "outputs": [],
   "source": []
  }
 ],
 "metadata": {
  "kernelspec": {
   "display_name": "Python 3",
   "language": "python",
   "name": "python3"
  },
  "language_info": {
   "codemirror_mode": {
    "name": "ipython",
    "version": 3
   },
   "file_extension": ".py",
   "mimetype": "text/x-python",
   "name": "python",
   "nbconvert_exporter": "python",
   "pygments_lexer": "ipython3",
   "version": "3.10.11"
  }
 },
 "nbformat": 4,
 "nbformat_minor": 5
}
